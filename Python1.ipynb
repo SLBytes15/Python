{
  "nbformat": 4,
  "nbformat_minor": 0,
  "metadata": {
    "colab": {
      "provenance": [],
      "authorship_tag": "ABX9TyPYyYWxHZZgfEqRx0XhdbNk",
      "include_colab_link": true
    },
    "kernelspec": {
      "name": "python3",
      "display_name": "Python 3"
    },
    "language_info": {
      "name": "python"
    }
  },
  "cells": [
    {
      "cell_type": "markdown",
      "metadata": {
        "id": "view-in-github",
        "colab_type": "text"
      },
      "source": [
        "<a href=\"https://colab.research.google.com/github/SLBytes15/Python/blob/main/Python1.ipynb\" target=\"_parent\"><img src=\"https://colab.research.google.com/assets/colab-badge.svg\" alt=\"Open In Colab\"/></a>"
      ]
    },
    {
      "cell_type": "code",
      "execution_count": null,
      "metadata": {
        "colab": {
          "base_uri": "https://localhost:8080/"
        },
        "id": "F9w07C489VGi",
        "outputId": "e3983792-9e93-4871-91ee-361ea41a15dc"
      },
      "outputs": [
        {
          "output_type": "stream",
          "name": "stdout",
          "text": [
            "Enter radius of sphere:4\n",
            "\n",
            " The Surface area of Sphere = 200.96\n",
            "The Volume of Sphere = 267.95\n"
          ]
        }
      ],
      "source": [
        "## Program - 1\n",
        "PI = 3.14\n",
        "radius = float(input('Enter radius of sphere:'))\n",
        "sa = 4*PI*radius*radius\n",
        "Volume = (4/3)*PI*radius*radius*radius\n",
        "\n",
        "print(\"\\n The Surface area of Sphere = %.2f\" %sa)\n",
        "print(\"The Volume of Sphere = %.2f\" %Volume)"
      ]
    },
    {
      "cell_type": "code",
      "source": [
        "## Program 2\n",
        "year = int(input(\"enter a year:\"))\n",
        "\n",
        "#divided by 100 means century year (ending with 00)\n",
        "# century year divided by 400 is leap year\n",
        "if(year % 400 == 0) and (year % 100 == 0):\n",
        "    print(\"{0} is a leap year\".format(year))\n",
        "\n",
        "# not divided by 100 means not a century year\n",
        "#year divided by 4 is a leap year\n",
        "\n",
        "elif(year % 4 == 0) and (year % 100 != 0):\n",
        "    print(\"{0} is a leap year\".format(year))\n",
        "\n",
        "# if not divided by both 400 (century year) and 4 (not century year) year is not leap year\n",
        "else:\n",
        "    print(\"{0} is not a leap year\".format(year))\n"
      ],
      "metadata": {
        "colab": {
          "base_uri": "https://localhost:8080/"
        },
        "id": "3RNcz1IN_2GF",
        "outputId": "db377f26-52f1-46a6-a5ff-c0becbb31a8b"
      },
      "execution_count": null,
      "outputs": [
        {
          "output_type": "stream",
          "name": "stdout",
          "text": [
            "enter a year:4848\n",
            "4848 is a leap year\n"
          ]
        }
      ]
    },
    {
      "cell_type": "code",
      "source": [
        "# Program 3\n",
        "nterms = int(input(\"How many terms?\"))\n",
        "\n",
        "\n",
        "#first two terms\n",
        "n1,n2 = 0,1\n",
        "count = 0\n",
        "\n",
        "if nterms <= 0:\n",
        "  print(\"please enter a positive integer\")\n",
        "\n",
        "elif nterms == 1:\n",
        "  print(\"Fibonacci sequence upto\",nterms,\":\")\n",
        "  print(n1)\n",
        "\n",
        "else:\n",
        "  print(\"Fibonacci squence:\")\n",
        "  while count < nterms:\n",
        "    print(n1)\n",
        "    nth = n1 + n2\n",
        "    # update variable\n",
        "    n1 = n2\n",
        "    n2 = nth\n",
        "    count += 1\n",
        "\n"
      ],
      "metadata": {
        "id": "ZWrdrFo1BmLm"
      },
      "execution_count": null,
      "outputs": []
    },
    {
      "cell_type": "code",
      "source": [
        "# Get user input and split it into a list\n",
        "user_input = input(\"Enter elements separated by space: \").split()\n",
        "\n",
        "print(\"List:\", user_input)\n"
      ],
      "metadata": {
        "id": "Uur8r4hRDSyS"
      },
      "execution_count": null,
      "outputs": []
    },
    {
      "cell_type": "code",
      "source": [
        "# Program 4\n",
        "tr_1 = input (\"Enter the string to check  if it is a palidrome: \")\n",
        "str_1 = str_1.casefold()\n",
        "rev_str = reversed(str_1)\n",
        "\n",
        "if list(str_1) == list(rev_str):\n",
        "  print(\"The string is a palindrome.\")\n",
        "else:\n",
        "  print(\"The string is not a palindrome.\")"
      ],
      "metadata": {
        "id": "zT-ytgsJDfy6"
      },
      "execution_count": null,
      "outputs": []
    },
    {
      "cell_type": "code",
      "source": [
        "# Program 5\n",
        "list = [10,1,2,20,3,20]\n",
        "\n",
        "min = list.index(min(list))\n",
        "\n",
        "max = list.index(max(list))\n",
        "\n",
        "print(\"position of minimum element: \", min)\n",
        "\n",
        "print(\"position of maximum element: \", max)\n"
      ],
      "metadata": {
        "id": "upb-qmDPEmg2"
      },
      "execution_count": null,
      "outputs": []
    },
    {
      "cell_type": "code",
      "source": [
        "# Program 6\n",
        "t1 = (12,34,56,43,21,26,4,43,77)\n",
        "t2 = (78,90)\n",
        "\n",
        "print(t1+t2)\n",
        "\n",
        "print(t1*3)\n",
        "\n",
        "print(max(t1))\n",
        "print(min(t1))\n",
        "print(any(t1))\n",
        "print(all(t1))\n",
        "sorted(t1)\n",
        "t1.index(56)\n",
        "t1.count(43)\n",
        "t3 = tuple(list1)\n",
        "print(t3)"
      ],
      "metadata": {
        "id": "GRZUPHcCF4aw"
      },
      "execution_count": null,
      "outputs": []
    }
  ]
}